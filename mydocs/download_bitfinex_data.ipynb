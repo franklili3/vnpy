{
 "cells": [
  {
   "cell_type": "markdown",
   "metadata": {},
   "source": [
    "# 下载bitfinex交易所历史K线数据"
   ]
  },
  {
   "cell_type": "markdown",
   "metadata": {},
   "source": [
    "## 1.定义下载时间段和品种"
   ]
  },
  {
   "cell_type": "code",
   "execution_count": 1,
   "metadata": {},
   "outputs": [],
   "source": [
    "import time"
   ]
  },
  {
   "cell_type": "code",
   "execution_count": 2,
   "metadata": {},
   "outputs": [],
   "source": [
    "now = int(round(time.time() * 1000))\n",
    "then = now - (1000 * 60 * 60 * 24 * 30) # 30 days ago\n",
    "symbol = 'BTCUSD'\n",
    "symbol_bitfinex = 't' + symbol\n",
    "vt_symbol = symbol + '.BITFINEX'"
   ]
  },
  {
   "cell_type": "markdown",
   "metadata": {},
   "source": [
    "## 2.运行下载函数"
   ]
  },
  {
   "cell_type": "code",
   "execution_count": 10,
   "metadata": {},
   "outputs": [
    {
     "ename": "ModuleNotFoundError",
     "evalue": "No module named 'myprojects'",
     "output_type": "error",
     "traceback": [
      "\u001b[1;31m---------------------------------------------------------------------------\u001b[0m",
      "\u001b[1;31mModuleNotFoundError\u001b[0m                       Traceback (most recent call last)",
      "\u001b[1;32mE:\\MyProjects\\myprojects\\vnpy\\mydocs\\download_history_candles_fun.py\u001b[0m in \u001b[0;36m<module>\u001b[1;34m\u001b[0m\n\u001b[0;32m      5\u001b[0m \u001b[1;32mimport\u001b[0m \u001b[0masyncio\u001b[0m\u001b[1;33m\u001b[0m\u001b[1;33m\u001b[0m\u001b[0m\n\u001b[0;32m      6\u001b[0m \u001b[0msys\u001b[0m\u001b[1;33m.\u001b[0m\u001b[0mpath\u001b[0m\u001b[1;33m.\u001b[0m\u001b[0mappend\u001b[0m\u001b[1;33m(\u001b[0m\u001b[1;34m\"..\"\u001b[0m\u001b[1;33m)\u001b[0m\u001b[1;33m\u001b[0m\u001b[1;33m\u001b[0m\u001b[0m\n\u001b[1;32m----> 7\u001b[1;33m \u001b[1;32mfrom\u001b[0m \u001b[0mmyprojects\u001b[0m\u001b[1;33m.\u001b[0m\u001b[0mbitfinex\u001b[0m\u001b[1;33m.\u001b[0m\u001b[0mbfxapi\u001b[0m \u001b[1;32mimport\u001b[0m \u001b[0mClient\u001b[0m\u001b[1;33m\u001b[0m\u001b[1;33m\u001b[0m\u001b[0m\n\u001b[0m\u001b[0;32m      8\u001b[0m bfx = Client(\n\u001b[0;32m      9\u001b[0m   \u001b[0mlogLevel\u001b[0m\u001b[1;33m=\u001b[0m\u001b[1;34m'DEBUG'\u001b[0m\u001b[1;33m,\u001b[0m\u001b[1;33m\u001b[0m\u001b[1;33m\u001b[0m\u001b[0m\n",
      "\u001b[1;31mModuleNotFoundError\u001b[0m: No module named 'myprojects'"
     ]
    }
   ],
   "source": [
    "%run download_history_candles_fun.py"
   ]
  },
  {
   "cell_type": "markdown",
   "metadata": {},
   "source": [
    "## 4.执行下载"
   ]
  },
  {
   "cell_type": "code",
   "execution_count": null,
   "metadata": {},
   "outputs": [],
   "source": [
    "t = asyncio.ensure_future(run(symbol.bitfinex))\n",
    "asyncio.get_event_loop().run_until_complete(t)"
   ]
  },
  {
   "cell_type": "markdown",
   "metadata": {},
   "source": [
    "## 5.转存数据为vnpy格式"
   ]
  },
  {
   "cell_type": "code",
   "execution_count": null,
   "metadata": {},
   "outputs": [],
   "source": [
    "def generate_bar_from_row(row, symbol, exchange):\n",
    "    \"\"\"\"\"\"\n",
    "    bar = DbBarData()\n",
    "\n",
    "    bar.symbol = symbol\n",
    "    bar.exchange = exchange\n",
    "    bar.interval = \"1m\"\n",
    "    bar.open_price = row[\"open\"]\n",
    "    bar.high_price = row[\"high\"]\n",
    "    bar.low_price = row[\"low\"]\n",
    "    bar.close_price = row[\"close\"]\n",
    "    bar.volume = row[\"volume\"]\n",
    "    bar.datetime = row.name.to_pydatetime()\n",
    "    bar.gateway_name = \"DB\"\n",
    "    bar.vt_symbol = f\"{symbol}.{exchange}\"\n",
    "\n",
    "    return bar\n",
    "\n",
    "def download_minute_bar(vt_symbol):\n",
    "    \"\"\"下载某一合约的分钟线数据\"\"\"\n",
    "    print(f\"开始下载合约数据{vt_symbol}\")\n",
    "    symbol, exchange = vt_symbol.split(\".\")\n",
    "\n",
    "    start = time()\n",
    "    with DB.atomic():\n",
    "        for ix, row in candles.iterrows():\n",
    "            print(row.name)\n",
    "            bar = generate_bar_from_row(row, symbol, exchange)\n",
    "            DbBarData.replace(bar.__data__).execute()\n",
    "\n",
    "    end = time()\n",
    "    cost = (end - start) * 1000\n",
    "\n",
    "    print(\n",
    "        \"合约%s的分钟K线数据下载完成%s - %s，耗时%s毫秒\"\n",
    "        % (symbol, df.index[0], df.index[-1], cost)\n",
    "    )\n",
    "download_minute_bar(vt_symbol)"
   ]
  },
  {
   "cell_type": "markdown",
   "metadata": {},
   "source": [
    "## 5.保存下载数据到vnpy数据库中"
   ]
  },
  {
   "cell_type": "code",
   "execution_count": null,
   "metadata": {},
   "outputs": [],
   "source": [
    "import os\n",
    "import unittest\n",
    "from copy import copy\n",
    "from datetime import datetime, timedelta\n",
    "\n",
    "from vnpy.trader.constant import Exchange, Interval\n",
    "from vnpy.trader.database.database import Driver\n",
    "from vnpy.trader.object import BarData, TickData\n",
    "os.environ[\"VNPY_TESTING\"] = \"1\"\n",
    "\n",
    "profiles = {Driver.SQLITE: {\"driver\": \"sqlite\", \"database\": \"mydb.db\"}}\n",
    "def now():\n",
    "    return datetime.utcnow()\n",
    "\n",
    "\n",
    "bar = DbBarData(\n",
    "    gateway_name=\"DB\",\n",
    "    symbol=symbol,\n",
    "    exchange=Exchange.BITMEX,\n",
    "    datetime=now(),\n",
    "    interval=Interval.MINUTE,\n",
    ")\n",
    "class TestDatabase(unittest.TestCase):\n",
    "\n",
    "    def connect(self, settings: dict):\n",
    "        from vnpy.trader.database.initialize import init  # noqa\n",
    "\n",
    "        self.manager = init(settings)\n",
    "    def test_save_load_bar(self):\n",
    "        for driver, settings in profiles.items():\n",
    "            with self.subTest(driver=driver, settings=settings):\n",
    "                self.connect(settings)\n",
    "                # save first\n",
    "                self.manager.save_bar_data([bar])\n",
    "\n",
    "                self.assertBarCount(43200, \"there should be 43200 items after save\")\n",
    "TestDatabase(bar)"
   ]
  }
 ],
 "metadata": {
  "kernelspec": {
   "display_name": "Python 3",
   "language": "python",
   "name": "python3"
  },
  "language_info": {
   "codemirror_mode": {
    "name": "ipython",
    "version": 3
   },
   "file_extension": ".py",
   "mimetype": "text/x-python",
   "name": "python",
   "nbconvert_exporter": "python",
   "pygments_lexer": "ipython3",
   "version": "3.7.1"
  }
 },
 "nbformat": 4,
 "nbformat_minor": 2
}
