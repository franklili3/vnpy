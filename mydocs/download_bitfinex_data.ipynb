{
 "cells": [
  {
   "cell_type": "markdown",
   "metadata": {},
   "source": [
    "# 下载bitfinex交易所历史K线数据"
   ]
  },
  {
   "cell_type": "markdown",
   "metadata": {},
   "source": [
    "## 1.定义下载时间段和品种"
   ]
  },
  {
   "cell_type": "code",
   "execution_count": 1,
   "metadata": {},
   "outputs": [],
   "source": [
    "import time"
   ]
  },
  {
   "cell_type": "code",
   "execution_count": 2,
   "metadata": {},
   "outputs": [],
   "source": [
    "now = int(round(time.time() * 1000))\n",
    "then = now - (1000 * 60 * 60 * 24 * 30) # 30 days ago\n",
    "symbol = 'BTCUSD'\n",
    "symbol_bitfinex = 't' + symbol\n",
    "vt_symbol = symbol + '.BITFINEX'"
   ]
  },
  {
   "cell_type": "markdown",
   "metadata": {},
   "source": [
    "## 2.运行下载函数"
   ]
  },
  {
   "cell_type": "code",
   "execution_count": 12,
   "metadata": {},
   "outputs": [],
   "source": [
    "%run download_history_candles_fun.py"
   ]
  },
  {
   "cell_type": "markdown",
   "metadata": {},
   "source": [
    "## 4.执行下载"
   ]
  },
  {
   "cell_type": "code",
   "execution_count": 14,
   "metadata": {},
   "outputs": [
    {
     "name": "stderr",
     "output_type": "stream",
     "text": [
      "Task exception was never retrieved\n",
      "future: <Task finished coro=<run() done, defined at E:\\MyProjects\\vnpy\\mydocs\\download_history_candles_fun.py:16> exception=NameError(\"name 'then' is not defined\")>\n",
      "Traceback (most recent call last):\n",
      "  File \"E:\\MyProjects\\vnpy\\mydocs\\download_history_candles_fun.py\", line 17, in run\n",
      "    await log_historical_candles(symbol_bitfinex, then)\n",
      "  File \"E:\\MyProjects\\vnpy\\mydocs\\download_history_candles_fun.py\", line 13, in log_historical_candles\n",
      "    candles = await bfx.rest.get_public_candles(symbol_bitfinex, 0, then)\n",
      "NameError: name 'then' is not defined\n"
     ]
    },
    {
     "ename": "RuntimeError",
     "evalue": "This event loop is already running",
     "output_type": "error",
     "traceback": [
      "\u001b[1;31m---------------------------------------------------------------------------\u001b[0m",
      "\u001b[1;31mRuntimeError\u001b[0m                              Traceback (most recent call last)",
      "\u001b[1;32m<ipython-input-14-d4ff650c0136>\u001b[0m in \u001b[0;36m<module>\u001b[1;34m\u001b[0m\n\u001b[0;32m      1\u001b[0m \u001b[0mt\u001b[0m \u001b[1;33m=\u001b[0m \u001b[0masyncio\u001b[0m\u001b[1;33m.\u001b[0m\u001b[0mensure_future\u001b[0m\u001b[1;33m(\u001b[0m\u001b[0mrun\u001b[0m\u001b[1;33m(\u001b[0m\u001b[0msymbol_bitfinex\u001b[0m\u001b[1;33m,\u001b[0m \u001b[0mthen\u001b[0m\u001b[1;33m)\u001b[0m\u001b[1;33m)\u001b[0m\u001b[1;33m\u001b[0m\u001b[1;33m\u001b[0m\u001b[0m\n\u001b[1;32m----> 2\u001b[1;33m \u001b[0masyncio\u001b[0m\u001b[1;33m.\u001b[0m\u001b[0mget_event_loop\u001b[0m\u001b[1;33m(\u001b[0m\u001b[1;33m)\u001b[0m\u001b[1;33m.\u001b[0m\u001b[0mrun_until_complete\u001b[0m\u001b[1;33m(\u001b[0m\u001b[0mt\u001b[0m\u001b[1;33m)\u001b[0m\u001b[1;33m\u001b[0m\u001b[1;33m\u001b[0m\u001b[0m\n\u001b[0m",
      "\u001b[1;32me:\\vnstudio\\lib\\asyncio\\base_events.py\u001b[0m in \u001b[0;36mrun_until_complete\u001b[1;34m(self, future)\u001b[0m\n\u001b[0;32m    558\u001b[0m         \u001b[0mfuture\u001b[0m\u001b[1;33m.\u001b[0m\u001b[0madd_done_callback\u001b[0m\u001b[1;33m(\u001b[0m\u001b[0m_run_until_complete_cb\u001b[0m\u001b[1;33m)\u001b[0m\u001b[1;33m\u001b[0m\u001b[1;33m\u001b[0m\u001b[0m\n\u001b[0;32m    559\u001b[0m         \u001b[1;32mtry\u001b[0m\u001b[1;33m:\u001b[0m\u001b[1;33m\u001b[0m\u001b[1;33m\u001b[0m\u001b[0m\n\u001b[1;32m--> 560\u001b[1;33m             \u001b[0mself\u001b[0m\u001b[1;33m.\u001b[0m\u001b[0mrun_forever\u001b[0m\u001b[1;33m(\u001b[0m\u001b[1;33m)\u001b[0m\u001b[1;33m\u001b[0m\u001b[1;33m\u001b[0m\u001b[0m\n\u001b[0m\u001b[0;32m    561\u001b[0m         \u001b[1;32mexcept\u001b[0m\u001b[1;33m:\u001b[0m\u001b[1;33m\u001b[0m\u001b[1;33m\u001b[0m\u001b[0m\n\u001b[0;32m    562\u001b[0m             \u001b[1;32mif\u001b[0m \u001b[0mnew_task\u001b[0m \u001b[1;32mand\u001b[0m \u001b[0mfuture\u001b[0m\u001b[1;33m.\u001b[0m\u001b[0mdone\u001b[0m\u001b[1;33m(\u001b[0m\u001b[1;33m)\u001b[0m \u001b[1;32mand\u001b[0m \u001b[1;32mnot\u001b[0m \u001b[0mfuture\u001b[0m\u001b[1;33m.\u001b[0m\u001b[0mcancelled\u001b[0m\u001b[1;33m(\u001b[0m\u001b[1;33m)\u001b[0m\u001b[1;33m:\u001b[0m\u001b[1;33m\u001b[0m\u001b[1;33m\u001b[0m\u001b[0m\n",
      "\u001b[1;32me:\\vnstudio\\lib\\asyncio\\base_events.py\u001b[0m in \u001b[0;36mrun_forever\u001b[1;34m(self)\u001b[0m\n\u001b[0;32m    513\u001b[0m         \u001b[0mself\u001b[0m\u001b[1;33m.\u001b[0m\u001b[0m_check_closed\u001b[0m\u001b[1;33m(\u001b[0m\u001b[1;33m)\u001b[0m\u001b[1;33m\u001b[0m\u001b[1;33m\u001b[0m\u001b[0m\n\u001b[0;32m    514\u001b[0m         \u001b[1;32mif\u001b[0m \u001b[0mself\u001b[0m\u001b[1;33m.\u001b[0m\u001b[0mis_running\u001b[0m\u001b[1;33m(\u001b[0m\u001b[1;33m)\u001b[0m\u001b[1;33m:\u001b[0m\u001b[1;33m\u001b[0m\u001b[1;33m\u001b[0m\u001b[0m\n\u001b[1;32m--> 515\u001b[1;33m             \u001b[1;32mraise\u001b[0m \u001b[0mRuntimeError\u001b[0m\u001b[1;33m(\u001b[0m\u001b[1;34m'This event loop is already running'\u001b[0m\u001b[1;33m)\u001b[0m\u001b[1;33m\u001b[0m\u001b[1;33m\u001b[0m\u001b[0m\n\u001b[0m\u001b[0;32m    516\u001b[0m         \u001b[1;32mif\u001b[0m \u001b[0mevents\u001b[0m\u001b[1;33m.\u001b[0m\u001b[0m_get_running_loop\u001b[0m\u001b[1;33m(\u001b[0m\u001b[1;33m)\u001b[0m \u001b[1;32mis\u001b[0m \u001b[1;32mnot\u001b[0m \u001b[1;32mNone\u001b[0m\u001b[1;33m:\u001b[0m\u001b[1;33m\u001b[0m\u001b[1;33m\u001b[0m\u001b[0m\n\u001b[0;32m    517\u001b[0m             raise RuntimeError(\n",
      "\u001b[1;31mRuntimeError\u001b[0m: This event loop is already running"
     ]
    }
   ],
   "source": [
    "t = asyncio.ensure_future(run(symbol_bitfinex, then))\n",
    "asyncio.get_event_loop().run_until_complete(t)\n"
   ]
  },
  {
   "cell_type": "code",
   "execution_count": 5,
   "metadata": {},
   "outputs": [
    {
     "ename": "RuntimeError",
     "evalue": "This event loop is already running",
     "output_type": "error",
     "traceback": [
      "\u001b[1;31m---------------------------------------------------------------------------\u001b[0m",
      "\u001b[1;31mRuntimeError\u001b[0m                              Traceback (most recent call last)",
      "\u001b[1;32mE:\\MyProjects\\bitfinex\\bfxapi\\examples\\rest\\get_public_data.py\u001b[0m in \u001b[0;36m<module>\u001b[1;34m\u001b[0m\n\u001b[0;32m     47\u001b[0m \u001b[1;33m\u001b[0m\u001b[0m\n\u001b[0;32m     48\u001b[0m \u001b[0mt\u001b[0m \u001b[1;33m=\u001b[0m \u001b[0masyncio\u001b[0m\u001b[1;33m.\u001b[0m\u001b[0mensure_future\u001b[0m\u001b[1;33m(\u001b[0m\u001b[0mrun\u001b[0m\u001b[1;33m(\u001b[0m\u001b[1;33m)\u001b[0m\u001b[1;33m)\u001b[0m\u001b[1;33m\u001b[0m\u001b[1;33m\u001b[0m\u001b[0m\n\u001b[1;32m---> 49\u001b[1;33m \u001b[0masyncio\u001b[0m\u001b[1;33m.\u001b[0m\u001b[0mget_event_loop\u001b[0m\u001b[1;33m(\u001b[0m\u001b[1;33m)\u001b[0m\u001b[1;33m.\u001b[0m\u001b[0mrun_until_complete\u001b[0m\u001b[1;33m(\u001b[0m\u001b[0mt\u001b[0m\u001b[1;33m)\u001b[0m\u001b[1;33m\u001b[0m\u001b[1;33m\u001b[0m\u001b[0m\n\u001b[0m\u001b[0;32m     50\u001b[0m \u001b[1;33m\u001b[0m\u001b[0m\n\u001b[0;32m     51\u001b[0m \u001b[1;31m#asyncio.get_event_loop().close()\u001b[0m\u001b[1;33m\u001b[0m\u001b[1;33m\u001b[0m\u001b[1;33m\u001b[0m\u001b[0m\n",
      "\u001b[1;32me:\\vnstudio\\lib\\asyncio\\base_events.py\u001b[0m in \u001b[0;36mrun_until_complete\u001b[1;34m(self, future)\u001b[0m\n\u001b[0;32m    558\u001b[0m         \u001b[0mfuture\u001b[0m\u001b[1;33m.\u001b[0m\u001b[0madd_done_callback\u001b[0m\u001b[1;33m(\u001b[0m\u001b[0m_run_until_complete_cb\u001b[0m\u001b[1;33m)\u001b[0m\u001b[1;33m\u001b[0m\u001b[1;33m\u001b[0m\u001b[0m\n\u001b[0;32m    559\u001b[0m         \u001b[1;32mtry\u001b[0m\u001b[1;33m:\u001b[0m\u001b[1;33m\u001b[0m\u001b[1;33m\u001b[0m\u001b[0m\n\u001b[1;32m--> 560\u001b[1;33m             \u001b[0mself\u001b[0m\u001b[1;33m.\u001b[0m\u001b[0mrun_forever\u001b[0m\u001b[1;33m(\u001b[0m\u001b[1;33m)\u001b[0m\u001b[1;33m\u001b[0m\u001b[1;33m\u001b[0m\u001b[0m\n\u001b[0m\u001b[0;32m    561\u001b[0m         \u001b[1;32mexcept\u001b[0m\u001b[1;33m:\u001b[0m\u001b[1;33m\u001b[0m\u001b[1;33m\u001b[0m\u001b[0m\n\u001b[0;32m    562\u001b[0m             \u001b[1;32mif\u001b[0m \u001b[0mnew_task\u001b[0m \u001b[1;32mand\u001b[0m \u001b[0mfuture\u001b[0m\u001b[1;33m.\u001b[0m\u001b[0mdone\u001b[0m\u001b[1;33m(\u001b[0m\u001b[1;33m)\u001b[0m \u001b[1;32mand\u001b[0m \u001b[1;32mnot\u001b[0m \u001b[0mfuture\u001b[0m\u001b[1;33m.\u001b[0m\u001b[0mcancelled\u001b[0m\u001b[1;33m(\u001b[0m\u001b[1;33m)\u001b[0m\u001b[1;33m:\u001b[0m\u001b[1;33m\u001b[0m\u001b[1;33m\u001b[0m\u001b[0m\n",
      "\u001b[1;32me:\\vnstudio\\lib\\asyncio\\base_events.py\u001b[0m in \u001b[0;36mrun_forever\u001b[1;34m(self)\u001b[0m\n\u001b[0;32m    513\u001b[0m         \u001b[0mself\u001b[0m\u001b[1;33m.\u001b[0m\u001b[0m_check_closed\u001b[0m\u001b[1;33m(\u001b[0m\u001b[1;33m)\u001b[0m\u001b[1;33m\u001b[0m\u001b[1;33m\u001b[0m\u001b[0m\n\u001b[0;32m    514\u001b[0m         \u001b[1;32mif\u001b[0m \u001b[0mself\u001b[0m\u001b[1;33m.\u001b[0m\u001b[0mis_running\u001b[0m\u001b[1;33m(\u001b[0m\u001b[1;33m)\u001b[0m\u001b[1;33m:\u001b[0m\u001b[1;33m\u001b[0m\u001b[1;33m\u001b[0m\u001b[0m\n\u001b[1;32m--> 515\u001b[1;33m             \u001b[1;32mraise\u001b[0m \u001b[0mRuntimeError\u001b[0m\u001b[1;33m(\u001b[0m\u001b[1;34m'This event loop is already running'\u001b[0m\u001b[1;33m)\u001b[0m\u001b[1;33m\u001b[0m\u001b[1;33m\u001b[0m\u001b[0m\n\u001b[0m\u001b[0;32m    516\u001b[0m         \u001b[1;32mif\u001b[0m \u001b[0mevents\u001b[0m\u001b[1;33m.\u001b[0m\u001b[0m_get_running_loop\u001b[0m\u001b[1;33m(\u001b[0m\u001b[1;33m)\u001b[0m \u001b[1;32mis\u001b[0m \u001b[1;32mnot\u001b[0m \u001b[1;32mNone\u001b[0m\u001b[1;33m:\u001b[0m\u001b[1;33m\u001b[0m\u001b[1;33m\u001b[0m\u001b[0m\n\u001b[0;32m    517\u001b[0m             raise RuntimeError(\n",
      "\u001b[1;31mRuntimeError\u001b[0m: This event loop is already running"
     ]
    },
    {
     "name": "stderr",
     "output_type": "stream",
     "text": [
      "Task exception was never retrieved\n",
      "future: <Task finished coro=<run() done, defined at E:\\MyProjects\\bitfinex\\bfxapi\\examples\\rest\\get_public_data.py:41> exception=ClientConnectorError(10061, \"Connect call failed ('199.16.156.40', 443)\")>\n",
      "Traceback (most recent call last):\n",
      "  File \"e:\\vnstudio\\lib\\site-packages\\aiohttp\\connector.py\", line 822, in _wrap_create_connection\n",
      "    return await self._loop.create_connection(*args, **kwargs)\n",
      "  File \"e:\\vnstudio\\lib\\asyncio\\base_events.py\", line 948, in create_connection\n",
      "    raise exceptions[0]\n",
      "  File \"e:\\vnstudio\\lib\\asyncio\\base_events.py\", line 935, in create_connection\n",
      "    await self.sock_connect(sock, address)\n",
      "  File \"e:\\vnstudio\\lib\\asyncio\\selector_events.py\", line 475, in sock_connect\n",
      "    return await fut\n",
      "  File \"e:\\vnstudio\\lib\\asyncio\\selector_events.py\", line 505, in _sock_connect_cb\n",
      "    raise OSError(err, f'Connect call failed {address}')\n",
      "ConnectionRefusedError: [Errno 10061] Connect call failed ('199.16.156.40', 443)\n",
      "\n",
      "The above exception was the direct cause of the following exception:\n",
      "\n",
      "Traceback (most recent call last):\n",
      "  File \"E:\\MyProjects\\bitfinex\\bfxapi\\examples\\rest\\get_public_data.py\", line 42, in run\n",
      "    await log_historical_candles()\n",
      "  File \"E:\\MyProjects\\bitfinex\\bfxapi\\examples\\rest\\get_public_data.py\", line 17, in log_historical_candles\n",
      "    candles = await bfx.rest.get_public_candles('tBTCUSD', 0, then)\n",
      "  File \"E:\\MyProjects\\bitfinex\\bfxapi\\rest\\BfxRest.py\", line 116, in get_public_candles\n",
      "    candles = await self.fetch(endpoint, params=params)\n",
      "  File \"E:\\MyProjects\\bitfinex\\bfxapi\\rest\\BfxRest.py\", line 42, in fetch\n",
      "    async with session.get(url) as resp:\n",
      "  File \"e:\\vnstudio\\lib\\site-packages\\aiohttp\\client.py\", line 855, in __aenter__\n",
      "    self._resp = await self._coro\n",
      "  File \"e:\\vnstudio\\lib\\site-packages\\aiohttp\\client.py\", line 370, in _request\n",
      "    timeout=timeout\n",
      "  File \"e:\\vnstudio\\lib\\site-packages\\aiohttp\\connector.py\", line 445, in connect\n",
      "    proto = await self._create_connection(req, traces, timeout)\n",
      "  File \"e:\\vnstudio\\lib\\site-packages\\aiohttp\\connector.py\", line 757, in _create_connection\n",
      "    req, traces, timeout)\n",
      "  File \"e:\\vnstudio\\lib\\site-packages\\aiohttp\\connector.py\", line 879, in _create_direct_connection\n",
      "    raise last_exc\n",
      "  File \"e:\\vnstudio\\lib\\site-packages\\aiohttp\\connector.py\", line 862, in _create_direct_connection\n",
      "    req=req, client_error=client_error)\n",
      "  File \"e:\\vnstudio\\lib\\site-packages\\aiohttp\\connector.py\", line 829, in _wrap_create_connection\n",
      "    raise client_error(req.connection_key, exc) from exc\n",
      "aiohttp.client_exceptions.ClientConnectorError: Cannot connect to host api-pub.bitfinex.com:443 ssl:None [Connect call failed ('199.16.156.40', 443)]\n"
     ]
    }
   ],
   "source": [
    "import sys\n",
    "sys.path.append(\"E:\\\\MyProjects\\\\bitfinex\")\n",
    "%run E:\\\\MyProjects\\\\bitfinex\\\\bfxapi\\\\examples\\\\rest\\\\get_public_data.py"
   ]
  },
  {
   "cell_type": "code",
   "execution_count": 11,
   "metadata": {},
   "outputs": [
    {
     "ename": "NameError",
     "evalue": "name 'fn' is not defined",
     "output_type": "error",
     "traceback": [
      "\u001b[1;31m---------------------------------------------------------------------------\u001b[0m",
      "\u001b[1;31mNameError\u001b[0m                                 Traceback (most recent call last)",
      "\u001b[1;32m<ipython-input-11-a2669d721262>\u001b[0m in \u001b[0;36m<module>\u001b[1;34m\u001b[0m\n\u001b[0;32m      1\u001b[0m \u001b[0mmyloop\u001b[0m \u001b[1;33m=\u001b[0m \u001b[0masyncio\u001b[0m\u001b[1;33m.\u001b[0m\u001b[0mget_event_loop\u001b[0m\u001b[1;33m(\u001b[0m\u001b[1;33m)\u001b[0m\u001b[1;33m\u001b[0m\u001b[1;33m\u001b[0m\u001b[0m\n\u001b[1;32m----> 2\u001b[1;33m \u001b[0masyncio\u001b[0m\u001b[1;33m.\u001b[0m\u001b[0mensure_future\u001b[0m\u001b[1;33m(\u001b[0m\u001b[0mrun\u001b[0m\u001b[1;33m(\u001b[0m\u001b[0msymbol_bitfinex\u001b[0m\u001b[1;33m)\u001b[0m\u001b[1;33m,\u001b[0m \u001b[0mloop\u001b[0m \u001b[1;33m=\u001b[0m \u001b[0mmyloop\u001b[0m\u001b[1;33m)\u001b[0m\u001b[1;33m.\u001b[0m\u001b[0madd_done_callback\u001b[0m\u001b[1;33m(\u001b[0m\u001b[0mfn\u001b[0m\u001b[1;33m)\u001b[0m\u001b[1;33m\u001b[0m\u001b[1;33m\u001b[0m\u001b[0m\n\u001b[0m",
      "\u001b[1;31mNameError\u001b[0m: name 'fn' is not defined"
     ]
    },
    {
     "name": "stderr",
     "output_type": "stream",
     "text": [
      "Task exception was never retrieved\n",
      "future: <Task finished coro=<run() done, defined at E:\\MyProjects\\vnpy\\mydocs\\download_history_candles_fun.py:16> exception=NameError(\"name 'then' is not defined\")>\n",
      "Traceback (most recent call last):\n",
      "  File \"E:\\MyProjects\\vnpy\\mydocs\\download_history_candles_fun.py\", line 17, in run\n",
      "    await log_historical_candles(symbol_bitfinex)\n",
      "  File \"E:\\MyProjects\\vnpy\\mydocs\\download_history_candles_fun.py\", line 13, in log_historical_candles\n",
      "    candles = await bfx.rest.get_public_candles(symbol_bitfinex, 0, then)\n",
      "NameError: name 'then' is not defined\n"
     ]
    }
   ],
   "source": [
    "myloop = asyncio.get_event_loop()\n",
    "asyncio.ensure_future(run(symbol_bitfinex, then), loop = myloop).add_done_callback(fn)\n"
   ]
  },
  {
   "cell_type": "markdown",
   "metadata": {},
   "source": [
    "## 5.转存数据为vnpy格式"
   ]
  },
  {
   "cell_type": "code",
   "execution_count": null,
   "metadata": {},
   "outputs": [],
   "source": [
    "def generate_bar_from_row(row, symbol, exchange):\n",
    "    \"\"\"\"\"\"\n",
    "    bar = DbBarData()\n",
    "\n",
    "    bar.symbol = symbol\n",
    "    bar.exchange = exchange\n",
    "    bar.interval = \"1m\"\n",
    "    bar.open_price = row[\"open\"]\n",
    "    bar.high_price = row[\"high\"]\n",
    "    bar.low_price = row[\"low\"]\n",
    "    bar.close_price = row[\"close\"]\n",
    "    bar.volume = row[\"volume\"]\n",
    "    bar.datetime = row.name.to_pydatetime()\n",
    "    bar.gateway_name = \"DB\"\n",
    "    bar.vt_symbol = f\"{symbol}.{exchange}\"\n",
    "\n",
    "    return bar\n",
    "\n",
    "def download_minute_bar(vt_symbol):\n",
    "    \"\"\"下载某一合约的分钟线数据\"\"\"\n",
    "    print(f\"开始下载合约数据{vt_symbol}\")\n",
    "    symbol, exchange = vt_symbol.split(\".\")\n",
    "\n",
    "    start = time()\n",
    "    with DB.atomic():\n",
    "        for ix, row in candles.iterrows():\n",
    "            print(row.name)\n",
    "            bar = generate_bar_from_row(row, symbol, exchange)\n",
    "            DbBarData.replace(bar.__data__).execute()\n",
    "\n",
    "    end = time()\n",
    "    cost = (end - start) * 1000\n",
    "\n",
    "    print(\n",
    "        \"合约%s的分钟K线数据下载完成%s - %s，耗时%s毫秒\"\n",
    "        % (symbol, df.index[0], df.index[-1], cost)\n",
    "    )\n",
    "download_minute_bar(vt_symbol)"
   ]
  },
  {
   "cell_type": "markdown",
   "metadata": {},
   "source": [
    "## 5.保存下载数据到vnpy数据库中"
   ]
  },
  {
   "cell_type": "code",
   "execution_count": null,
   "metadata": {},
   "outputs": [],
   "source": [
    "import os\n",
    "import unittest\n",
    "from copy import copy\n",
    "from datetime import datetime, timedelta\n",
    "\n",
    "from vnpy.trader.constant import Exchange, Interval\n",
    "from vnpy.trader.database.database import Driver\n",
    "from vnpy.trader.object import BarData, TickData\n",
    "os.environ[\"VNPY_TESTING\"] = \"1\"\n",
    "\n",
    "profiles = {Driver.SQLITE: {\"driver\": \"sqlite\", \"database\": \"mydb.db\"}}\n",
    "def now():\n",
    "    return datetime.utcnow()\n",
    "\n",
    "\n",
    "bar = DbBarData(\n",
    "    gateway_name=\"DB\",\n",
    "    symbol=symbol,\n",
    "    exchange=Exchange.BITMEX,\n",
    "    datetime=now(),\n",
    "    interval=Interval.MINUTE,\n",
    ")\n",
    "class TestDatabase(unittest.TestCase):\n",
    "\n",
    "    def connect(self, settings: dict):\n",
    "        from vnpy.trader.database.initialize import init  # noqa\n",
    "\n",
    "        self.manager = init(settings)\n",
    "    def test_save_load_bar(self):\n",
    "        for driver, settings in profiles.items():\n",
    "            with self.subTest(driver=driver, settings=settings):\n",
    "                self.connect(settings)\n",
    "                # save first\n",
    "                self.manager.save_bar_data([bar])\n",
    "\n",
    "                self.assertBarCount(43200, \"there should be 43200 items after save\")\n",
    "TestDatabase(bar)"
   ]
  }
 ],
 "metadata": {
  "kernelspec": {
   "display_name": "Python 3",
   "language": "python",
   "name": "python3"
  },
  "language_info": {
   "codemirror_mode": {
    "name": "ipython",
    "version": 3
   },
   "file_extension": ".py",
   "mimetype": "text/x-python",
   "name": "python",
   "nbconvert_exporter": "python",
   "pygments_lexer": "ipython3",
   "version": "3.7.1"
  }
 },
 "nbformat": 4,
 "nbformat_minor": 2
}
