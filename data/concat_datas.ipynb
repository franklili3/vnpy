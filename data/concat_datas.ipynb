{
 "cells": [
  {
   "cell_type": "code",
   "execution_count": 2,
   "metadata": {},
   "outputs": [],
   "source": [
    "import pandas as pd\n",
    "file_names_prefix = ['1inchusdt', 'aacusdt', 'aaveusdt', 'achusdt', 'actusdt', 'adausdt', 'aeusdt', 'akrousdt', 'algousdt', 'ankrusdt',\\\n",
    "                     'antusdt', 'api3usdt', 'apnusdt', 'arpausdt', 'arusdt', 'astusdt', 'atomusdt', 'atpusdt', 'auctionusdt', 'avaxusdt',\\\n",
    "                    'axsusdt', 'badgerusdt', 'bagsusdt', 'balusdt', 'bandusdt', 'batusdt', 'bchusdt', 'bethusdt', 'bixusdt', 'blzusdt',\\\n",
    "                    'bntusdt', 'boringusdt', 'bsvusdt', 'btcusdt', 'btmusdt', 'btsusdt', 'bttusdt', 'canusdt', 'chrusdt', 'chzusdt',\\\n",
    "                     'ckbusdt', 'ckbusdt', 'cnnsusdt', 'compusdt', 'creusdt', 'crousdt', 'cruusdt', 'crvusdt', 'csprusdt', 'ctsiusdt',\\\n",
    "                     'ctxcusdt', 'cvcusdt', 'cvpusdt', 'dacusdt', 'dashusdt', 'dcrusdt', 'dfusdt', 'dhtusdt', 'dkausdt', 'dockusdt',\\\n",
    "                    'dogeusdt', 'dotusdt', 'dtausdt', 'egtusdt', 'ektusdt', 'elausdt', 'emusdt', 'enjusdt', 'eosusdt', 'etcusdt', 'ethusdt',\\\n",
    "                     'fildausdt', 'filusdt', 'firousdt', 'fisusdt', 'flowusdt', 'forthusdt', 'forusdt', 'frontusdt', 'fsnusdt', 'ftiusdt',\\\n",
    "                    'fttusdt', 'gnxusdt', 'gofusdt', 'grtusdt', 'gxcusdt', 'hbarusdt', 'hbcusdt', 'hcusdt', 'hitusdt', 'hiveusdt', 'hotusdt',\\\n",
    "                    'hptusdt', 'htusdt', 'icpusdt', 'icxusdt', 'injusdt', 'insurusdt', 'iostusdt', 'iotausdt', 'iotxusdt', 'irisusdt', 'itceth',\\\n",
    "                    'itcusdt', 'jstusdt', 'kanusdt', 'kavausdt', 'kcashusdt', 'ksmusdt', 'latusdt', 'lbausdt', 'letusdt', 'lhbusdt', 'linausdt',\\\n",
    "                    'linkusdt', 'lolusdt', 'loomusdt', 'lrcusdt', 'ltcusdt', 'lunausdt', 'lxtusdt', 'manausdt', 'maskusdt', 'massusdt',\\\n",
    "                     'maticusdt', 'mdsusdt', 'mdxusdt', 'mirusdt', 'mkrusdt', 'mlnusdt', 'mtausdt', 'mxcusdt', 'mxusdt', 'nanousdt', 'nasusdt',\\\n",
    "                    'nbsusdt', 'nearusdt', 'nestusdt', 'newusdt', 'nexousdt', 'nftusdt', 'nhbtcusdt', 'nknusdt', 'nsureusdt', 'nulsusdt',\\\n",
    "                     'nuusdt', 'o3usdt', 'ocnusdt', 'ognusdt', 'ogousdt', 'omgusdt', 'oneusdt', 'ontusdt', 'oxtusdt', 'paiusdt', 'paxusdt',\\\n",
    "                    'pearlusdt', 'phausdt', 'polsusdt', 'pondusdt', 'pvtusdt', 'qtumusdt', 'raiusdt', 'renusdt', 'ringusdt', 'rlcusdt',\\\n",
    "                    'rndrusdt', 'rsrusdt', 'rvnusdt', 'sandusdt', 'scusdt', 'seeleusdt', 'shibusdt', 'sklusdt', 'skmusdt', 'smtusdt', 'sntusdt',\\\n",
    "                    'socusdt', 'solusdt', 'stakeusdt', 'steemusdt', 'stnusdt', 'storjusdt', 'stptusdt', 'sunusdt', 'sushiusdt', 'swftcusdt',\\\n",
    "                    'swrvusdt', 'thetausdt', 'titanusdt', 'tnbusdt', 'topusdt', 'trbusdt', 'trxusdt', 'ttusdt', 'uipusdt', 'umausdt', 'uniusdt',\\\n",
    "                    'utkusdt', 'uuuusdt', 'valueusdt', 'vetusdt', 'vidyusdt', 'vsysusdt', 'wavesusdt', 'waxpusdt', 'wbtcusdt', 'wiccusdt',\\\n",
    "                    'wnxmusdt', 'woousdt', 'wtcusdt', 'wxtusdt', 'xchusdt', 'xemusdt', 'xlmusdt', 'xmrusdt', 'xmxusdt', 'xrpusdt', 'xrtusdt',\\\n",
    "                    'xtzusdt', 'yamusdt', 'yeeusdt', 'yfiiusdt', 'yfiusdt', 'zecusdt', 'zenusdt', 'zilusdt', 'zksusdt', 'zrxusdt']\n",
    "file_name_0 = file_names_prefix[0] + '.csv'\n",
    "price_symbol_full = pd.read_csv(file_name_0, index_col = 0)\n",
    "for i in range(1, 229, 1):\n",
    "    file_name = file_names_prefix[i] + '.csv'\n",
    "    price_symbol = pd.read_csv(file_name, index_col = 0)\n",
    "    price_symbol_full = pd.concat([price_symbol_full, price_symbol])\n",
    "price_symbol_full.to_csv('price_symbol_full.csv')"
   ]
  },
  {
   "cell_type": "code",
   "execution_count": null,
   "metadata": {},
   "outputs": [],
   "source": []
  }
 ],
 "metadata": {
  "kernelspec": {
   "display_name": "Python 3",
   "language": "python",
   "name": "python3"
  },
  "language_info": {
   "codemirror_mode": {
    "name": "ipython",
    "version": 3
   },
   "file_extension": ".py",
   "mimetype": "text/x-python",
   "name": "python",
   "nbconvert_exporter": "python",
   "pygments_lexer": "ipython3",
   "version": "3.7.1"
  }
 },
 "nbformat": 4,
 "nbformat_minor": 4
}
